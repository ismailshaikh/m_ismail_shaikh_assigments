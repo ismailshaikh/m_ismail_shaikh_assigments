{
 "cells": [
  {
   "cell_type": "markdown",
   "metadata": {},
   "source": [
    "### 1. What is the relationship between def statements and lambda expressions ?\n"
   ]
  },
  {
   "cell_type": "markdown",
   "metadata": {},
   "source": [
    "<b>def keyword</b> is used to create named function in python, Function naming follows the same rules of writing identifiers in Python<br>\n",
    "<b>Lambdas</b> are one-line functions without a name, in other words using lambdas we can create anonymous functions in python. Lambda functions work practically the same as any other method in Python. Lambdas differ from normal Python methods because they can have only one expression, and they can't contain any statements and their return type is a function object"
   ]
  },
  {
   "cell_type": "markdown",
   "metadata": {},
   "source": [
    "### 2. What is the benefit of lambda?\n"
   ]
  },
  {
   "cell_type": "markdown",
   "metadata": {},
   "source": [
    "Fewer Lines of Code Lambda functions are inline functions and thus execute comparatively faster Many times lambda functions make code much more readable by avoiding the logical jumps caused by function calls"
   ]
  },
  {
   "cell_type": "markdown",
   "metadata": {},
   "source": [
    "### 3. Compare and contrast map, filter, and reduce.\n"
   ]
  },
  {
   "cell_type": "markdown",
   "metadata": {},
   "source": [
    "<b>map</b> applies as a transformation to an element. The map() function iterates through all items in the given iterable and executes the function we passed as an argument on each of them. <code>Syntax : map(function, iterable(s))</code><br>\n",
    "<b>filter</b> accumulates only elements matching a condition. filter() forms a new list that contains only elements that satisfy a certain condition, i.e. the function we passed returns True Syntax : <code>filter(function, iterable(s))</code><br>\n",
    "<b>reduce</b> accumulates all elements to a single value, by using immutable values reduce() works by calling the function we passed for the first two items in the sequence. The result returned by the function is used in another call to function alongside with the next (third in this case), element Syntax : <code>reduce(function, sequence[, initial])</code>\n"
   ]
  },
  {
   "cell_type": "markdown",
   "metadata": {},
   "source": []
  },
  {
   "cell_type": "markdown",
   "metadata": {},
   "source": [
    "### 4. What are function annotations, and how are they used?\n"
   ]
  },
  {
   "cell_type": "markdown",
   "metadata": {},
   "source": [
    "Function annotation is the standard way to access the metadata with the arguments and the return value of the function. These are optional Python expressions that get allied to different parts of the function. They get evaluated only during the compile-time and have no significance during the run-time of the code. They do not have any significance or meaning associated with them until accessed by some third-party libraries. They are used to type check the functions by declaring the type of the parameters and the return value for the functions. The string-based annotations help us to improve the help messages.<br><br>\n",
    "\n",
    "<code>Syntax : def func(a: 'int') -> 'int': pass</code><br><br>\n",
    "\n",
    "Annotations for simple parameters: def func(x: 'float'=10.8, y: 'argument2'): In the above code the argument, ‘x’ of the function func, has been annotated to float data type and the argument ‘y’ has a string-based annotation. The argument can also be assigned to a default value using a ‘=’ symbol followed by the default value. These default values are optional to the code.<br><br>\n",
    "\n",
    "Annotations for return values: def func(a: expression) -> 'int': The annotations for the return value is written after the ‘->’ symbol."
   ]
  },
  {
   "cell_type": "markdown",
   "metadata": {},
   "source": [
    "### 5. What are recursive functions, and how are they used?\n"
   ]
  },
  {
   "cell_type": "markdown",
   "metadata": {},
   "source": [
    "A recursive function is a function that calls itself during its execution. This means that the function will continue to call itself and repeat its behavior until some condition is met to return a result\n",
    "\n",
    "<b> example</b>\n",
    "<code>\n",
    "def fact(x):\n",
    "    if x == 1 :\n",
    "        return 1\n",
    "    else :\n",
    "        return x * fact(x-1) # recursion\n",
    "</code>\n",
    "fact(3)"
   ]
  },
  {
   "cell_type": "markdown",
   "metadata": {},
   "source": [
    "### 6. What are some general design guidelines for coding functions?\n"
   ]
  },
  {
   "cell_type": "markdown",
   "metadata": {},
   "source": [
    "1. Use 4-space indentation and no tabs.\n",
    "2. Use docstrings\n",
    "3. Wrap linethat they don’t exceed 79 characters\n",
    "4. Use of regular and updated comments are valuable to both the coders and users\n",
    "5. Use of trailing commas : in case of tuple -> ('good',)\n",
    "6. Use Python’s default UTF-8 or ASCII encodings and not any fancy encodings\n",
    "7. Naming Conventions 8.Characters that should not be used for identifiers:\n",
    "* ‘l’ (lowercase letter el),\n",
    "* ‘O’ (uppercase letter oh),\n",
    "* ‘I’ (uppercase letter eye) as single character variable names as these are similar to the numerals one and zero.\n",
    "8. Don’t use non-ASCII characters in identifiers\n",
    "9. Name your classes and functions consistently\n",
    "10. While naming of function of methods always use self for the first argument"
   ]
  },
  {
   "cell_type": "markdown",
   "metadata": {},
   "source": [
    "### 7. Name three or more ways that functions can communicate results to a caller."
   ]
  },
  {
   "cell_type": "markdown",
   "metadata": {},
   "source": [
    "* Function can return single value\n",
    "* Can return multiple values, tuple\n",
    "* can return list,dictionary\n",
    "* can return function object\n",
    "* can return class object (ex: SQL Connection object)\n",
    "* can update an output variable\n",
    "* can update a global variable\n",
    "* can update/create a file"
   ]
  }
 ],
 "metadata": {
  "kernelspec": {
   "display_name": "Python 3",
   "language": "python",
   "name": "python3"
  },
  "language_info": {
   "codemirror_mode": {
    "name": "ipython",
    "version": 3
   },
   "file_extension": ".py",
   "mimetype": "text/x-python",
   "name": "python",
   "nbconvert_exporter": "python",
   "pygments_lexer": "ipython3",
   "version": "3.8.5"
  }
 },
 "nbformat": 4,
 "nbformat_minor": 4
}
