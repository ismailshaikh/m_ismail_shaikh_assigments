{
 "cells": [
  {
   "cell_type": "markdown",
   "metadata": {},
   "source": [
    "## 1. In what modes should the PdfFileReader() and PdfFileWriter() File objects will be opened?"
   ]
  },
  {
   "cell_type": "markdown",
   "metadata": {},
   "source": [
    "#### Ans: \n",
    "#### To Install PyPDF2 Module : pip install PyPDF2\n",
    "* These files will be opened in binary mode.\n",
    "\n",
    "* Read Binary(rb) : PdfFileREader()\n",
    "* Write Binary(wb) : PdfFileWriter()"
   ]
  },
  {
   "cell_type": "markdown",
   "metadata": {},
   "source": [
    "----------------------------------------------------------------------------"
   ]
  },
  {
   "cell_type": "markdown",
   "metadata": {},
   "source": [
    "## 2. From a PdfFileReader object, how do you get a Page object for page 5?"
   ]
  },
  {
   "cell_type": "markdown",
   "metadata": {},
   "source": [
    "#### Ans:\n",
    "Calling getPage(4) will return a Page object for page 5 (indexes start from 0 just like arrays)"
   ]
  },
  {
   "cell_type": "code",
   "execution_count": 8,
   "metadata": {},
   "outputs": [
    {
     "data": {
      "text/plain": [
       "'ToKaren,Paul,Anna,andJack\\n–MichaelT.Goodrich\\nToIsabel\\n–RobertoTamassia\\nToSusan,Calista,andMaya\\n–MichaelH.Goldwasser\\n'"
      ]
     },
     "execution_count": 8,
     "metadata": {},
     "output_type": "execute_result"
    }
   ],
   "source": [
    "\n",
    "import PyPDF2 as pdf\n",
    "\n",
    "pdfFileObj = open(r\"C:\\Users\\SHAIKH\\Downloads\\Data_Structures_and_Algorithms_in_Python.pdf\", 'rb')\n",
    "pdfReader = pdf.PdfFileReader(pdfFileObj)\n",
    "pageobj = pdfReader.getPage(4)\n",
    "pageobj.extractText()"
   ]
  },
  {
   "cell_type": "markdown",
   "metadata": {},
   "source": [
    "\n",
    "----------------------------------------------------------------------------------"
   ]
  },
  {
   "cell_type": "markdown",
   "metadata": {},
   "source": [
    "## 3. What PdfFileReader variable stores the number of pages in the PDF document?"
   ]
  },
  {
   "cell_type": "markdown",
   "metadata": {},
   "source": [
    "#### Ans: \n",
    "The numPages variable stores the number of pages in the PdfFileReader object in integer format"
   ]
  },
  {
   "cell_type": "code",
   "execution_count": 9,
   "metadata": {},
   "outputs": [
    {
     "data": {
      "text/plain": [
       "770"
      ]
     },
     "execution_count": 9,
     "metadata": {},
     "output_type": "execute_result"
    }
   ],
   "source": [
    "import PyPDF2 as pdf\n",
    "pdffileobj = open(r\"C:\\Users\\SHAIKH\\Downloads\\Data_Structures_and_Algorithms_in_Python.pdf\", 'rb')\n",
    "pdfReader = pdf.PdfFileReader(pdffileobj)\n",
    "pdfReader.numPages"
   ]
  },
  {
   "cell_type": "markdown",
   "metadata": {},
   "source": [
    "------------------------------------------------------------------------------"
   ]
  },
  {
   "cell_type": "markdown",
   "metadata": {},
   "source": [
    "## 4. If a PdfFileReader object’s PDF is encrypted with the password swordfish, what must you do before you can obtain Page objects from it?"
   ]
  },
  {
   "cell_type": "markdown",
   "metadata": {},
   "source": [
    "#### Ans:\n",
    "   before we obtain the page object, the pdf has to be decrypted by calling .decrypt('swordfish') pdfReader.decrypt('swordfish')"
   ]
  },
  {
   "cell_type": "markdown",
   "metadata": {},
   "source": [
    "---------------------------------------------------------------------------------------"
   ]
  },
  {
   "cell_type": "markdown",
   "metadata": {},
   "source": [
    "## 5. What methods do you use to rotate a page?"
   ]
  },
  {
   "cell_type": "markdown",
   "metadata": {},
   "source": [
    "#### Ans:\n",
    "\n",
    "The rotateClockwise() and rotateCounterClockwise() methods.<br> The degrees to rotate is passed as an integer argument\n",
    "\n",
    "#### pageObj.rotateClockwise(180)"
   ]
  },
  {
   "cell_type": "markdown",
   "metadata": {},
   "source": [
    "---------------------------------------------------------------------------------------"
   ]
  },
  {
   "cell_type": "markdown",
   "metadata": {},
   "source": [
    "## 6. What is the difference between a Run object and a Paragraph object?"
   ]
  },
  {
   "cell_type": "markdown",
   "metadata": {},
   "source": [
    "#### Ans:\n",
    "<code>Paragraph Object:</code>\n",
    "  * A document contains multiple paragraphs\n",
    "  * A paragraph begins on a new line and contains multiple runs.\n",
    "  * The Document object contains a list of Paragraph objects for the paragraphs in the document.\n",
    "  * A new paragraph begins whenever the user presses ENTER or RETURN while typing in a Word document.\n",
    "  \n",
    "<code>Run Objects:</code>\n",
    "  * Runs are Contiguous group of characters within a paragraph with the same style"
   ]
  },
  {
   "cell_type": "markdown",
   "metadata": {},
   "source": [
    "----------------------------------------------------------------------------------------------------------------------"
   ]
  },
  {
   "cell_type": "markdown",
   "metadata": {},
   "source": [
    "## 7. How do you obtain a list of Paragraph objects for a Document object that’s stored in a variable named doc?"
   ]
  },
  {
   "cell_type": "markdown",
   "metadata": {},
   "source": [
    "#### Ans:\n",
    "   By using doc.paragraphs you can obtain a list of paragraph objects for a document object\n",
    "   \n",
    "##### pip install python-docx"
   ]
  },
  {
   "cell_type": "code",
   "execution_count": 11,
   "metadata": {
    "scrolled": true
   },
   "outputs": [
    {
     "data": {
      "text/plain": [
       "[<docx.text.paragraph.Paragraph at 0x24679143e80>,\n",
       " <docx.text.paragraph.Paragraph at 0x24679143df0>,\n",
       " <docx.text.paragraph.Paragraph at 0x24679143ee0>,\n",
       " <docx.text.paragraph.Paragraph at 0x24679143f40>,\n",
       " <docx.text.paragraph.Paragraph at 0x24678dc3940>,\n",
       " <docx.text.paragraph.Paragraph at 0x24678dc3340>,\n",
       " <docx.text.paragraph.Paragraph at 0x24679133bb0>,\n",
       " <docx.text.paragraph.Paragraph at 0x2467913a4c0>,\n",
       " <docx.text.paragraph.Paragraph at 0x2467913a490>,\n",
       " <docx.text.paragraph.Paragraph at 0x2467913a550>,\n",
       " <docx.text.paragraph.Paragraph at 0x246791560a0>,\n",
       " <docx.text.paragraph.Paragraph at 0x24679156070>,\n",
       " <docx.text.paragraph.Paragraph at 0x24679156160>]"
      ]
     },
     "execution_count": 11,
     "metadata": {},
     "output_type": "execute_result"
    }
   ],
   "source": [
    "import docx\n",
    "doc = docx.Document(\"Assignment_12.docx\")\n",
    "doc.paragraphs"
   ]
  },
  {
   "cell_type": "markdown",
   "metadata": {},
   "source": [
    "----------------------------------------------------------------------------"
   ]
  },
  {
   "cell_type": "markdown",
   "metadata": {},
   "source": [
    "## 8. What type of object has bold, underline, italic, strike, and outline variables?"
   ]
  },
  {
   "cell_type": "markdown",
   "metadata": {},
   "source": [
    "#### Ans:\n",
    " A Run object has bold, underline,italic,strike and outline variables"
   ]
  },
  {
   "cell_type": "markdown",
   "metadata": {},
   "source": [
    "-----------------------------------------------------------------------------------"
   ]
  },
  {
   "cell_type": "markdown",
   "metadata": {},
   "source": [
    "## 9. What is the difference between False, True, and None for the bold variable?\n"
   ]
  },
  {
   "cell_type": "markdown",
   "metadata": {},
   "source": [
    "#### Ans:\n",
    "Runs can be further styled using text attributes. Each attribute can be set to one of three values:<br><code>True</code> (the attribute is always enabled, no matter what other styles are applied to the run),<br> <code>False</code> (the attribute is always disabled),<br> <code>None</code> (defaults to whatever the run’s style is set to)\n",
    "\n",
    " * True always makes the Run object bolded\n",
    " * False makes it always not bolded, no matter what the style’s bold setting is\n",
    " * None will make the Run object just use the style’s bold setting."
   ]
  },
  {
   "cell_type": "markdown",
   "metadata": {},
   "source": [
    "--------------------------------------------------------------------------------------------------------------"
   ]
  },
  {
   "cell_type": "markdown",
   "metadata": {},
   "source": [
    "## 10. How do you create a Document object for a new Word document?"
   ]
  },
  {
   "cell_type": "markdown",
   "metadata": {},
   "source": [
    "#### Ans:\n",
    "docx.Document() function creates a new Document object."
   ]
  },
  {
   "cell_type": "markdown",
   "metadata": {},
   "source": [
    "--------------------------------------------------------------------------------------------"
   ]
  },
  {
   "cell_type": "markdown",
   "metadata": {},
   "source": [
    "## 11. How do you add a paragraph with the text 'Hello, there!'' to a Document object stored in a variable named doc?"
   ]
  },
  {
   "cell_type": "code",
   "execution_count": 12,
   "metadata": {},
   "outputs": [],
   "source": [
    "import docx\n",
    "doc = docx.Document()\n",
    "\n",
    "doc.add_paragraph(\"Hello there!\")\n",
    "doc.save('hellothere.docx')\n"
   ]
  },
  {
   "cell_type": "markdown",
   "metadata": {},
   "source": [
    "---------------------------------------------------------------------------------------------------------"
   ]
  },
  {
   "cell_type": "markdown",
   "metadata": {},
   "source": [
    "## 12. What integers represent the levels of headings available in Word documents?"
   ]
  },
  {
   "cell_type": "markdown",
   "metadata": {},
   "source": [
    "#### Ans:\n",
    "##### integer from 0 to 4\n",
    "\n",
    "The arguments to <code>add_heading()</code> are a string of the heading text and an integer from 0 to 4.<br> The integer 0 makes the heading the Title style, which is used for the top of the document.<br> Integers 1 to 4 are for various heading levels, with 1 being the main heading and 4 the lowest subheading"
   ]
  }
 ],
 "metadata": {
  "kernelspec": {
   "display_name": "Python 3",
   "language": "python",
   "name": "python3"
  },
  "language_info": {
   "codemirror_mode": {
    "name": "ipython",
    "version": 3
   },
   "file_extension": ".py",
   "mimetype": "text/x-python",
   "name": "python",
   "nbconvert_exporter": "python",
   "pygments_lexer": "ipython3",
   "version": "3.8.5"
  }
 },
 "nbformat": 4,
 "nbformat_minor": 4
}
