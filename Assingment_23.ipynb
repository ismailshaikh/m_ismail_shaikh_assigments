{
 "cells": [
  {
   "cell_type": "markdown",
   "metadata": {},
   "source": [
    "### 1. What is the result of the code, and why?\n",
    "def func(a, b=6, c=8):<br>\n",
    "    print(a, b, c)<br>\n",
    "    >>> func(1, 2)"
   ]
  },
  {
   "cell_type": "markdown",
   "metadata": {},
   "source": [
    "<code>func(1,2)</code> will print <code>1 2 8</code> on the console because as per the function func definition, the value of third parameter <code>c</code> is by <code>default 8</code> if not passed explicitly"
   ]
  },
  {
   "cell_type": "markdown",
   "metadata": {},
   "source": [
    "------------------------------------------------------------------------------------------------"
   ]
  },
  {
   "cell_type": "markdown",
   "metadata": {},
   "source": [
    "### 2. What is the result of this code, and why?\n",
    "def func(a, b, c=5):<br>\n",
    "        print(a, b, c) \n",
    "        <br>>>> func(1, c=3, b=2)\n",
    "        "
   ]
  },
  {
   "cell_type": "markdown",
   "metadata": {},
   "source": [
    "<code>func(1, c=3, b=2)</code> will print <code>1 2 3</code> onto the console because during the function call of func we are using named parameters instead of ordered parameter value passing.<br>\n",
    "\n",
    "Thus the value passed to <code>a is 1, b is 2, c is 3</code> irrespective of the order of values c and b passed, as long as you are using named arguments"
   ]
  },
  {
   "cell_type": "markdown",
   "metadata": {},
   "source": [
    "------------------------------------------------------------------------------------------------"
   ]
  },
  {
   "cell_type": "markdown",
   "metadata": {},
   "source": [
    "### 3. How about this code: what is its result, and why?\n",
    "def func(a, *pargs):<br>\n",
    "    print(a, pargs)<br>\n",
    "    >>> func(1, 2, 3)"
   ]
  },
  {
   "cell_type": "markdown",
   "metadata": {},
   "source": [
    "<code>func(1, 2, 3)</code> will print <code>1 (2, 3)</code> to the console, because the first parameter passed to the func function will be assigned to parameter <code>a</code>.<br> Any other following arguments will be assigned to arbitary argument <code>pargs</code> which will be an <code>iterable object</code> of type <code>tuple</code>"
   ]
  },
  {
   "cell_type": "markdown",
   "metadata": {},
   "source": [
    "------------------------------------------------------------------------------------------------"
   ]
  },
  {
   "cell_type": "markdown",
   "metadata": {},
   "source": [
    "### 4. What does this code print, and why?\n",
    "def func(a, **kargs):<br>\n",
    "    print(a, kargs)<br>\n",
    "    >>> func(a=1, c=3, b=2)"
   ]
  },
  {
   "cell_type": "markdown",
   "metadata": {},
   "source": [
    "<code>func(a=1, c=3, b=2)</code> will print <code>1 {'c': 3, 'b': 2}</code> because the return type of <code>kargs</code> is a dictionary object"
   ]
  },
  {
   "cell_type": "markdown",
   "metadata": {},
   "source": [
    "------------------------------------------------------------------------------------------------"
   ]
  },
  {
   "cell_type": "markdown",
   "metadata": {},
   "source": [
    "### 5. What gets printed by this, and explain?\n",
    "def func(a, b, c=8, d=5): <br>\n",
    "    print(a, b, c, d)<br>\n",
    "    >>> func(1, *(5, 6))"
   ]
  },
  {
   "cell_type": "markdown",
   "metadata": {},
   "source": [
    "<code>func(1, *(5, 6))</code> will print <code>1 5 6 5 </code>to the console.<br> <code>a</code> will take the value of <code>1</code>, <code>d will default to 5</code> as it is not passed. <code>*(5, 6)</code> will be read as <code>comma seperated values</code> and assigned to <code>b, c</code> respectively"
   ]
  },
  {
   "cell_type": "markdown",
   "metadata": {},
   "source": [
    "------------------------------------------------------------------------------------------------"
   ]
  },
  {
   "cell_type": "markdown",
   "metadata": {},
   "source": [
    "### 6. what is the result of this, and explain?\n",
    "def func(a, b, c)<br>\n",
    "    a = 2<br>\n",
    "    b[0] = 'x'<br>\n",
    "    c['a'] = 'y'<br>\n",
    "l=1<br>\n",
    "m=[1]<br>\n",
    "n={'a':0}<br>\n",
    "func(l, m, n)"
   ]
  },
  {
   "cell_type": "markdown",
   "metadata": {},
   "source": [
    "<code>func(l, m, n)</code> \n",
    "The values of <code>l</code>, <code>m</code>, <code>n</code> will be unchanged as the func updates the copies of these values but not the original values. So console output will be: <code>(1, [1], {'a': 0})</code>"
   ]
  }
 ],
 "metadata": {
  "kernelspec": {
   "display_name": "Python 3",
   "language": "python",
   "name": "python3"
  },
  "language_info": {
   "codemirror_mode": {
    "name": "ipython",
    "version": 3
   },
   "file_extension": ".py",
   "mimetype": "text/x-python",
   "name": "python",
   "nbconvert_exporter": "python",
   "pygments_lexer": "ipython3",
   "version": "3.8.5"
  }
 },
 "nbformat": 4,
 "nbformat_minor": 4
}
