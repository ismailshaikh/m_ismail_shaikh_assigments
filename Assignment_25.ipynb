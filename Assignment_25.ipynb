{
 "cells": [
  {
   "cell_type": "markdown",
   "metadata": {},
   "source": [
    "### 1) . What is the difference between enclosing a list comprehension in square brackets and parentheses?\n"
   ]
  },
  {
   "cell_type": "markdown",
   "metadata": {},
   "source": [
    "List comprehension in <b>square brackets []</b> produces a <b>list object</b> as output <br>List comprehension in <b>oval parenthesis ()</b> produces a <b>generator object</b> as output<br>List comprehension in <b>flower parenthesis {}</b> produces a <b>set object</b> as output\n",
    "<br><br>\n",
    "\n",
    "<code>temp = [i for i in range(10)]</code>\n",
    "<br><code>print(type(temp))</code> <br>\n",
    "<code>temp2 = (i for i in range(10)) \n",
    "print(type(temp2)) </code><br>\n",
    "<code>temp2 = {i for i in range(10)} \n",
    "print(type(temp2))</code>"
   ]
  },
  {
   "cell_type": "markdown",
   "metadata": {},
   "source": [
    "### 2) What is the relationship between generators and iterators?\n"
   ]
  },
  {
   "cell_type": "markdown",
   "metadata": {},
   "source": [
    "An <b>iterator</b> is an object which contains a <b>countable number of values</b> and it is used to iterate over iterable objects like <b>list, tuples etc</b><br><br>\n",
    "\n",
    "Using an <b>iterator- iter()</b> keyword is used to create an iterator containing an iterable object. <b>next()</b> keyword is used to call the next element in the iterable object.<br><br>\n",
    "\n",
    "<b>Generator</b> It is another way of creating iterators in a simple way where it uses the keyword <b>“yield” </b>instead of returning it in a defined function Generators are implemented using a function containing yield return statement.<br><br>\n",
    "\n",
    "Here, the yield function returns the data without affecting or exiting the function. It will return a sequence of data in an iterable format where we need to iterate over the sequence to use the data as they won’t store the entire sequence in the memory By using next() function we can iterate the output of generator function"
   ]
  },
  {
   "cell_type": "markdown",
   "metadata": {},
   "source": []
  },
  {
   "cell_type": "markdown",
   "metadata": {},
   "source": [
    "### 3) What are the signs that a function is a generator function?\n"
   ]
  },
  {
   "cell_type": "markdown",
   "metadata": {},
   "source": [
    "If a function contains at least one yield statement (it may contain other yield or return statements), it becomes a generator function. Both yield and return will return some value from a function."
   ]
  },
  {
   "cell_type": "markdown",
   "metadata": {},
   "source": [
    "### 4) What is the purpose of a yield statement?\n"
   ]
  },
  {
   "cell_type": "markdown",
   "metadata": {},
   "source": [
    "A yield statement looks much like a return statement, except that instead of stopping execution of the function and returning, yield instead provides a value to the code looping over the generator and pauses execution of the generator function"
   ]
  },
  {
   "cell_type": "markdown",
   "metadata": {},
   "source": [
    "### 5) What is the relationship between map calls and list comprehensions? Make a comparison and contrast between the two.\n"
   ]
  },
  {
   "cell_type": "markdown",
   "metadata": {},
   "source": [
    "Map function: Suppose we have a function and we want to compute this function for different values in a single line of code . This is where map() function plays its role. map() function returns a map object(which is an iterator) of the results after applying the given function to each item of a given iterable (list, tuple etc.)\n",
    "\n",
    "If we already have a function defined, it is often good to use map For example, map(sum, myLists) is more neat than [sum(x) for x in myLists]. You gain the elegance of not having to make up a dummy variable (e.g. sum(x) for x... or sum() for ... or sum(readableName) for readableName...) which you have to type twice, just to iterate.\n",
    "\n",
    "List Comprehension: List Comprehension is a substitute for the lambda function, map(), filter() and reduce()\n",
    "\n",
    "Comparision :\n",
    "\n",
    "1. List comprehension is more concise and easier to read as compared to map\n",
    "2. List comprehension allows filtering. In map, we have no such facility\n",
    "For example, to print all even numbers in range of 100, we can write [n for n in range(100) if n%2 == 0]. There is \n",
    "no alternate for it in map\n",
    "3. List comprehension are used when a list of results is required, where as map only returns a map object and does \n",
    "not return any list.\n",
    "4. List comprehension is faster than map when we need to evaluate expressions that are too long or complicated \n",
    "to express\n",
    "5. Map is faster in case of calling an already defined function (as no lambda is required)"
   ]
  }
 ],
 "metadata": {
  "kernelspec": {
   "display_name": "Python 3",
   "language": "python",
   "name": "python3"
  },
  "language_info": {
   "codemirror_mode": {
    "name": "ipython",
    "version": 3
   },
   "file_extension": ".py",
   "mimetype": "text/x-python",
   "name": "python",
   "nbconvert_exporter": "python",
   "pygments_lexer": "ipython3",
   "version": "3.8.5"
  }
 },
 "nbformat": 4,
 "nbformat_minor": 4
}
